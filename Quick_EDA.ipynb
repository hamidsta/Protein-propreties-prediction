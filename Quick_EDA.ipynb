{
 "cells": [
  {
   "cell_type": "code",
   "execution_count": 88,
   "id": "cc301295-6293-4f6e-98f3-5f86071e3228",
   "metadata": {},
   "outputs": [],
   "source": [
    "\n",
    "import pandas as pd, numpy as np, matplotlib.pyplot as plt, seaborn as sns, gc\n",
    "from scipy import stats; from scipy.stats import zscore, norm, randint\n",
    "import warnings; warnings.filterwarnings('ignore')\n",
    "from rdkit.Chem import rdMolDescriptors, MolFromSmiles, rdmolfiles, rdmolops\n",
    "from rdkit import DataStructs\n"
   ]
  },
  {
   "cell_type": "code",
   "execution_count": null,
   "id": "e0edbdcf-904b-46df-82f2-57f1b53e29b8",
   "metadata": {},
   "outputs": [],
   "source": [
    "## Import Data and Overview "
   ]
  },
  {
   "cell_type": "code",
   "execution_count": 89,
   "id": "60fdc97b-25ee-462f-ac38-3cdfa48d6cf4",
   "metadata": {},
   "outputs": [
    {
     "data": {
      "text/html": [
       "<div>\n",
       "<style scoped>\n",
       "    .dataframe tbody tr th:only-of-type {\n",
       "        vertical-align: middle;\n",
       "    }\n",
       "\n",
       "    .dataframe tbody tr th {\n",
       "        vertical-align: top;\n",
       "    }\n",
       "\n",
       "    .dataframe thead th {\n",
       "        text-align: right;\n",
       "    }\n",
       "</style>\n",
       "<table border=\"1\" class=\"dataframe\">\n",
       "  <thead>\n",
       "    <tr style=\"text-align: right;\">\n",
       "      <th></th>\n",
       "      <th>P1</th>\n",
       "      <th>mol_id</th>\n",
       "      <th>smiles</th>\n",
       "    </tr>\n",
       "  </thead>\n",
       "  <tbody>\n",
       "    <tr>\n",
       "      <th>0</th>\n",
       "      <td>1</td>\n",
       "      <td>CID2999678</td>\n",
       "      <td>Cc1cccc(N2CCN(C(=O)C34CC5CC(CC(C5)C3)C4)CC2)c1C</td>\n",
       "    </tr>\n",
       "    <tr>\n",
       "      <th>1</th>\n",
       "      <td>0</td>\n",
       "      <td>CID2999679</td>\n",
       "      <td>Cn1ccnc1SCC(=O)Nc1ccc(Oc2ccccc2)cc1</td>\n",
       "    </tr>\n",
       "    <tr>\n",
       "      <th>2</th>\n",
       "      <td>1</td>\n",
       "      <td>CID2999672</td>\n",
       "      <td>COc1cc2c(cc1NC(=O)CN1C(=O)NC3(CCc4ccccc43)C1=O...</td>\n",
       "    </tr>\n",
       "    <tr>\n",
       "      <th>3</th>\n",
       "      <td>0</td>\n",
       "      <td>CID5390002</td>\n",
       "      <td>O=C1/C(=C/NC2CCS(=O)(=O)C2)c2ccccc2C(=O)N1c1cc...</td>\n",
       "    </tr>\n",
       "    <tr>\n",
       "      <th>4</th>\n",
       "      <td>1</td>\n",
       "      <td>CID2999670</td>\n",
       "      <td>NC(=O)NC(Cc1ccccc1)C(=O)O</td>\n",
       "    </tr>\n",
       "  </tbody>\n",
       "</table>\n",
       "</div>"
      ],
      "text/plain": [
       "   P1      mol_id                                             smiles\n",
       "0   1  CID2999678    Cc1cccc(N2CCN(C(=O)C34CC5CC(CC(C5)C3)C4)CC2)c1C\n",
       "1   0  CID2999679                Cn1ccnc1SCC(=O)Nc1ccc(Oc2ccccc2)cc1\n",
       "2   1  CID2999672  COc1cc2c(cc1NC(=O)CN1C(=O)NC3(CCc4ccccc43)C1=O...\n",
       "3   0  CID5390002  O=C1/C(=C/NC2CCS(=O)(=O)C2)c2ccccc2C(=O)N1c1cc...\n",
       "4   1  CID2999670                          NC(=O)NC(Cc1ccccc1)C(=O)O"
      ]
     },
     "execution_count": 89,
     "metadata": {},
     "output_type": "execute_result"
    }
   ],
   "source": [
    "data = pd.read_csv(\"D:\\ROSALIND_problems\\Servier_test\\dataset_single.csv\")\n",
    "data.head()"
   ]
  },
  {
   "cell_type": "code",
   "execution_count": 82,
   "id": "e5a2ae09-440a-407e-9b1c-943f52643e95",
   "metadata": {},
   "outputs": [
    {
     "data": {
      "text/plain": [
       "(Index(['P1', 'mol_id', 'smiles'], dtype='object'), (4999, 3), 2)"
      ]
     },
     "execution_count": 82,
     "metadata": {},
     "output_type": "execute_result"
    }
   ],
   "source": [
    "data.columns , data.shape , data.ndim"
   ]
  },
  {
   "cell_type": "code",
   "execution_count": 83,
   "id": "a9fec548-3bd0-481a-a2d2-caf077ba5e73",
   "metadata": {},
   "outputs": [
    {
     "name": "stdout",
     "output_type": "stream",
     "text": [
      "<class 'pandas.core.frame.DataFrame'>\n",
      "RangeIndex: 4999 entries, 0 to 4998\n",
      "Data columns (total 3 columns):\n",
      " #   Column  Non-Null Count  Dtype \n",
      "---  ------  --------------  ----- \n",
      " 0   P1      4999 non-null   int64 \n",
      " 1   mol_id  4999 non-null   object\n",
      " 2   smiles  4999 non-null   object\n",
      "dtypes: int64(1), object(2)\n",
      "memory usage: 117.3+ KB\n"
     ]
    },
    {
     "data": {
      "text/plain": [
       "(None,\n",
       "    P1      mol_id                                             smiles\n",
       " 0   1  CID2999678    Cc1cccc(N2CCN(C(=O)C34CC5CC(CC(C5)C3)C4)CC2)c1C\n",
       " 1   0  CID2999679                Cn1ccnc1SCC(=O)Nc1ccc(Oc2ccccc2)cc1\n",
       " 2   1  CID2999672  COc1cc2c(cc1NC(=O)CN1C(=O)NC3(CCc4ccccc43)C1=O...\n",
       " 3   0  CID5390002  O=C1/C(=C/NC2CCS(=O)(=O)C2)c2ccccc2C(=O)N1c1cc...\n",
       " 4   1  CID2999670                          NC(=O)NC(Cc1ccccc1)C(=O)O)"
      ]
     },
     "execution_count": 83,
     "metadata": {},
     "output_type": "execute_result"
    }
   ],
   "source": [
    "data.info() , data.head()"
   ]
  },
  {
   "cell_type": "code",
   "execution_count": 38,
   "id": "337c67ed-0eee-4200-a020-1214010427f1",
   "metadata": {},
   "outputs": [
    {
     "data": {
      "text/html": [
       "<div>\n",
       "<style scoped>\n",
       "    .dataframe tbody tr th:only-of-type {\n",
       "        vertical-align: middle;\n",
       "    }\n",
       "\n",
       "    .dataframe tbody tr th {\n",
       "        vertical-align: top;\n",
       "    }\n",
       "\n",
       "    .dataframe thead th {\n",
       "        text-align: right;\n",
       "    }\n",
       "</style>\n",
       "<table border=\"1\" class=\"dataframe\">\n",
       "  <thead>\n",
       "    <tr style=\"text-align: right;\">\n",
       "      <th></th>\n",
       "      <th>count</th>\n",
       "      <th>mean</th>\n",
       "      <th>std</th>\n",
       "      <th>min</th>\n",
       "      <th>25%</th>\n",
       "      <th>50%</th>\n",
       "      <th>75%</th>\n",
       "      <th>max</th>\n",
       "    </tr>\n",
       "  </thead>\n",
       "  <tbody>\n",
       "    <tr>\n",
       "      <th>P1</th>\n",
       "      <td>4999.0</td>\n",
       "      <td>0.821764</td>\n",
       "      <td>0.382749</td>\n",
       "      <td>0.0</td>\n",
       "      <td>1.0</td>\n",
       "      <td>1.0</td>\n",
       "      <td>1.0</td>\n",
       "      <td>1.0</td>\n",
       "    </tr>\n",
       "  </tbody>\n",
       "</table>\n",
       "</div>"
      ],
      "text/plain": [
       "     count      mean       std  min  25%  50%  75%  max\n",
       "P1  4999.0  0.821764  0.382749  0.0  1.0  1.0  1.0  1.0"
      ]
     },
     "execution_count": 38,
     "metadata": {},
     "output_type": "execute_result"
    }
   ],
   "source": [
    "data.describe().T"
   ]
  },
  {
   "cell_type": "markdown",
   "id": "05ed83d3-6585-4b12-b44a-833a0d1caef8",
   "metadata": {},
   "source": [
    "## Handling Missing values"
   ]
  },
  {
   "cell_type": "code",
   "execution_count": 20,
   "id": "ab7ae9e1-0c01-41fb-9da8-d1ccbbb3c759",
   "metadata": {},
   "outputs": [
    {
     "name": "stdout",
     "output_type": "stream",
     "text": [
      "4999\n"
     ]
    }
   ],
   "source": [
    "print(len(data.mol_id.unique()))"
   ]
  },
  {
   "cell_type": "code",
   "execution_count": 57,
   "id": "303aa2ca-8490-404d-9ed9-21e38ceffd1f",
   "metadata": {},
   "outputs": [
    {
     "name": "stdout",
     "output_type": "stream",
     "text": [
      "Descriptive Stats before imputation for columns IF missing values: \n",
      " ----------------------------------------------------------------------\n"
     ]
    },
    {
     "data": {
      "text/html": [
       "<div>\n",
       "<style scoped>\n",
       "    .dataframe tbody tr th:only-of-type {\n",
       "        vertical-align: middle;\n",
       "    }\n",
       "\n",
       "    .dataframe tbody tr th {\n",
       "        vertical-align: top;\n",
       "    }\n",
       "\n",
       "    .dataframe thead th {\n",
       "        text-align: right;\n",
       "    }\n",
       "</style>\n",
       "<table border=\"1\" class=\"dataframe\">\n",
       "  <thead>\n",
       "    <tr style=\"text-align: right;\">\n",
       "      <th></th>\n",
       "      <th>count</th>\n",
       "      <th>mean</th>\n",
       "      <th>std</th>\n",
       "      <th>min</th>\n",
       "      <th>25%</th>\n",
       "      <th>50%</th>\n",
       "      <th>75%</th>\n",
       "      <th>max</th>\n",
       "    </tr>\n",
       "  </thead>\n",
       "  <tbody>\n",
       "    <tr>\n",
       "      <th>P1</th>\n",
       "      <td>4999.0</td>\n",
       "      <td>0.821764</td>\n",
       "      <td>0.382749</td>\n",
       "      <td>0.0</td>\n",
       "      <td>1.0</td>\n",
       "      <td>1.0</td>\n",
       "      <td>1.0</td>\n",
       "      <td>1.0</td>\n",
       "    </tr>\n",
       "  </tbody>\n",
       "</table>\n",
       "</div>"
      ],
      "text/plain": [
       "     count      mean       std  min  25%  50%  75%  max\n",
       "P1  4999.0  0.821764  0.382749  0.0  1.0  1.0  1.0  1.0"
      ]
     },
     "metadata": {},
     "output_type": "display_data"
    }
   ],
   "source": [
    "\n",
    "columns = list(['mol_id','P1','smiles'])\n",
    "\n",
    "print('Descriptive Stats before imputation for columns IF missing values: \\n', '--'*35)\n",
    "display(data[columns].describe().T)"
   ]
  },
  {
   "cell_type": "markdown",
   "id": "c0aa93c6-f5b4-44b8-adad-f126afe07fd8",
   "metadata": {},
   "source": [
    "## Univariate Analysis"
   ]
  },
  {
   "cell_type": "code",
   "execution_count": 58,
   "id": "ec5fd94d-32cd-4db0-9f49-0c504e0b7484",
   "metadata": {},
   "outputs": [],
   "source": [
    "# Functions that will help us with EDA plot\n",
    "def odp_plots(df, col):\n",
    "    f,(ax1, ax2, ax3) = plt.subplots(1, 3, figsize = (15, 7.2))\n",
    "    \n",
    "    # Boxplot to check outliers\n",
    "    sns.boxplot(x = col, data = df, ax = ax1, orient = 'v', color = 'darkslategrey')\n",
    "    \n",
    "    # Distribution plot with outliers\n",
    "    sns.distplot(df[col], ax = ax2, color = 'teal', fit = norm).set_title(f'{col} with outliers')\n",
    "    \n",
    "    # Removing outliers, but in a new dataframe\n",
    "    upperbound, lowerbound = np.percentile(df[col], [1, 99])\n",
    "    y = pd.DataFrame(np.clip(df[col], upperbound, lowerbound))\n",
    "    \n",
    "    # Distribution plot without outliers\n",
    "    sns.distplot(y[col], ax = ax3, color = 'tab:orange', fit = norm).set_title(f'{col} without outliers')\n",
    "    \n",
    "    kwargs = {'fontsize':14, 'color':'black'}\n",
    "    ax1.set_title(col + ' Boxplot Analysis', **kwargs)\n",
    "    ax1.set_xlabel('Box', **kwargs)\n",
    "    ax1.set_ylabel(col + ' Values', **kwargs)\n",
    "\n",
    "    return plt.show()"
   ]
  },
  {
   "cell_type": "code",
   "execution_count": 67,
   "id": "17b0ad51-4abe-41c0-8e42-75155e277f65",
   "metadata": {},
   "outputs": [
    {
     "name": "stdout",
     "output_type": "stream",
     "text": [
      "P1 column --------------------------------------------------------------------------------\n",
      "no of records with outliers values: 891\n"
     ]
    },
    {
     "data": {
      "text/html": [
       "<div>\n",
       "<style scoped>\n",
       "    .dataframe tbody tr th:only-of-type {\n",
       "        vertical-align: middle;\n",
       "    }\n",
       "\n",
       "    .dataframe tbody tr th {\n",
       "        vertical-align: top;\n",
       "    }\n",
       "\n",
       "    .dataframe thead th {\n",
       "        text-align: right;\n",
       "    }\n",
       "</style>\n",
       "<table border=\"1\" class=\"dataframe\">\n",
       "  <thead>\n",
       "    <tr style=\"text-align: right;\">\n",
       "      <th></th>\n",
       "      <th>P1</th>\n",
       "      <th>mol_id</th>\n",
       "      <th>smiles</th>\n",
       "    </tr>\n",
       "  </thead>\n",
       "  <tbody>\n",
       "    <tr>\n",
       "      <th>1</th>\n",
       "      <td>0</td>\n",
       "      <td>CID2999679</td>\n",
       "      <td>Cn1ccnc1SCC(=O)Nc1ccc(Oc2ccccc2)cc1</td>\n",
       "    </tr>\n",
       "    <tr>\n",
       "      <th>3</th>\n",
       "      <td>0</td>\n",
       "      <td>CID5390002</td>\n",
       "      <td>O=C1/C(=C/NC2CCS(=O)(=O)C2)c2ccccc2C(=O)N1c1cc...</td>\n",
       "    </tr>\n",
       "    <tr>\n",
       "      <th>8</th>\n",
       "      <td>0</td>\n",
       "      <td>CID2999674</td>\n",
       "      <td>CCCc1cc(=O)nc(SCC(=O)N(CC(C)C)C2CCS(=O)(=O)C2)...</td>\n",
       "    </tr>\n",
       "    <tr>\n",
       "      <th>9</th>\n",
       "      <td>0</td>\n",
       "      <td>CID2999675</td>\n",
       "      <td>CCn1cnc2c1c(=O)n(CC(=O)Nc1cc(C)on1)c(=O)n2Cc1c...</td>\n",
       "    </tr>\n",
       "    <tr>\n",
       "      <th>15</th>\n",
       "      <td>0</td>\n",
       "      <td>CID647480</td>\n",
       "      <td>Cc1nn(-c2ccccc2)c(Cl)c1C1C(C#N)=C(N)OC2=C1C(=O...</td>\n",
       "    </tr>\n",
       "  </tbody>\n",
       "</table>\n",
       "</div>"
      ],
      "text/plain": [
       "    P1      mol_id                                             smiles\n",
       "1    0  CID2999679                Cn1ccnc1SCC(=O)Nc1ccc(Oc2ccccc2)cc1\n",
       "3    0  CID5390002  O=C1/C(=C/NC2CCS(=O)(=O)C2)c2ccccc2C(=O)N1c1cc...\n",
       "8    0  CID2999674  CCCc1cc(=O)nc(SCC(=O)N(CC(C)C)C2CCS(=O)(=O)C2)...\n",
       "9    0  CID2999675  CCn1cnc2c1c(=O)n(CC(=O)Nc1cc(C)on1)c(=O)n2Cc1c...\n",
       "15   0   CID647480  Cc1nn(-c2ccccc2)c(Cl)c1C1C(C#N)=C(N)OC2=C1C(=O..."
      ]
     },
     "metadata": {},
     "output_type": "display_data"
    },
    {
     "name": "stdout",
     "output_type": "stream",
     "text": [
      "EDA for P1 column --------------------------------------------------------------------------------\n"
     ]
    },
    {
     "data": {
      "image/png": "[encoded data removed]",
      "text/plain": [
       "<Figure size 1500x720 with 3 Axes>"
      ]
     },
     "metadata": {},
     "output_type": "display_data"
    }
   ],
   "source": [
    "# Outlier, distribution for columns with outliers\n",
    "boxplotcolumns = ['P1']\n",
    "for cols in boxplotcolumns:\n",
    "    Q3 = data[cols].quantile(0.75)\n",
    "    Q1 = data[cols].quantile(0.25)\n",
    "    IQR = Q3 - Q1\n",
    "\n",
    "    print(f'{cols.capitalize()} column', '--'*40)\n",
    "    count = len(data.loc[(data[cols] < (Q1 - 1.5 * IQR)) | (data[cols] > (Q3 + 1.5 * IQR))])\n",
    "    print(f'no of records with outliers values: {count}')\n",
    "    \n",
    "    display(data.loc[(data[cols] < (Q1 - 1.5 * IQR)) | (data[cols] > (Q3 + 1.5 * IQR))].head())\n",
    "    print(f'EDA for {cols.capitalize()} column', '--'*40)\n",
    "    odp_plots(data, cols)\n",
    "\n",
    "del cols, IQR, boxplotcolumns"
   ]
  },
  {
   "cell_type": "markdown",
   "id": "5f5c5916-a61d-42ca-8fa8-8e8734cbc13a",
   "metadata": {},
   "source": [
    "## Transform smiles molecule into morgan vector fingerprint"
   ]
  },
  {
   "cell_type": "code",
   "execution_count": 84,
   "id": "28036140-f9f6-42c3-b0ec-be89275e7d1f",
   "metadata": {},
   "outputs": [],
   "source": [
    "def computeMorganFP(smile_string, radius=2, size=2048):\n",
    "    x = np.zeros(size)\n",
    "    mol = MolFromSmiles(smile_string)\n",
    "    new_order = rdmolfiles.CanonicalRankAtoms(mol)\n",
    "    mol = rdmolops.RenumberAtoms(mol, new_order)\n",
    "    morgan = rdMolDescriptors.GetMorganFingerprintAsBitVect(mol, radius,\n",
    "                                                            nBits=size,\n",
    "                                                            useChirality=True,\n",
    "                                                            useBondTypes=True,\n",
    "                                                            useFeatures=False\n",
    "                                                            )\n",
    "    DataStructs.ConvertToNumpyArray(morgan,x)\n",
    "\n",
    "    return x\n"
   ]
  },
  {
   "cell_type": "code",
   "execution_count": 90,
   "id": "ed00948e-7ee5-4bfb-8eb5-febc4d2fb434",
   "metadata": {},
   "outputs": [],
   "source": [
    "data.drop_duplicates()\n",
    "data['Morgan_fingerprint'] = data['smiles'].map(computeMorganFP)   # get morganFingerprint as binary array\n",
    "data.dropna(inplace=True)\n",
    "df = data.Morgan_fingerprint.apply(pd.Series)  # get df columns for each bit morgan\n",
    "label = data['P1']  # get label"
   ]
  },
  {
   "cell_type": "code",
   "execution_count": 92,
   "id": "d6f3bf2b-09d6-4c3b-8e60-2953d3877eec",
   "metadata": {},
   "outputs": [
    {
     "name": "stdout",
     "output_type": "stream",
     "text": [
      "   0     1     2     3     4     5     6     7     8     9     ...  2038  \\\n",
      "0   0.0   0.0   0.0   0.0   0.0   0.0   0.0   0.0   0.0   0.0  ...   0.0   \n",
      "1   0.0   0.0   0.0   0.0   0.0   0.0   0.0   0.0   0.0   0.0  ...   0.0   \n",
      "2   0.0   0.0   0.0   0.0   0.0   0.0   0.0   0.0   0.0   0.0  ...   0.0   \n",
      "3   0.0   0.0   0.0   0.0   0.0   0.0   0.0   0.0   0.0   0.0  ...   0.0   \n",
      "4   0.0   1.0   0.0   0.0   0.0   0.0   0.0   0.0   0.0   0.0  ...   0.0   \n",
      "\n",
      "   2039  2040  2041  2042  2043  2044  2045  2046  2047  \n",
      "0   0.0   0.0   0.0   0.0   0.0   0.0   0.0   0.0   0.0  \n",
      "1   0.0   0.0   0.0   0.0   0.0   0.0   0.0   0.0   0.0  \n",
      "2   0.0   0.0   0.0   0.0   0.0   0.0   0.0   0.0   0.0  \n",
      "3   0.0   0.0   0.0   0.0   0.0   0.0   0.0   0.0   0.0  \n",
      "4   0.0   0.0   0.0   0.0   0.0   0.0   0.0   0.0   0.0  \n",
      "\n",
      "[5 rows x 2048 columns]\n",
      "0    1\n",
      "1    0\n",
      "2    1\n",
      "3    0\n",
      "4    1\n",
      "Name: P1, dtype: int64\n"
     ]
    }
   ],
   "source": [
    "print(df.head())\n",
    "print(label.head())"
   ]
  }
 ],
 "metadata": {
  "kernelspec": {
   "display_name": "Python 3 (ipykernel)",
   "language": "python",
   "name": "python3"
  },
  "language_info": {
   "codemirror_mode": {
    "name": "ipython",
    "version": 3
   },
   "file_extension": ".py",
   "mimetype": "text/x-python",
   "name": "python",
   "nbconvert_exporter": "python",
   "pygments_lexer": "ipython3",
   "version": "3.10.5"
  }
 },
 "nbformat": 4,
 "nbformat_minor": 5
}
